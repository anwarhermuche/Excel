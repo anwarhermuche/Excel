{
 "cells": [
  {
   "cell_type": "markdown",
   "id": "777adba1",
   "metadata": {},
   "source": [
    "# Creating the Excel file used on my Medium post"
   ]
  },
  {
   "cell_type": "code",
   "execution_count": 118,
   "id": "5d0bdc68",
   "metadata": {},
   "outputs": [],
   "source": [
    "# Importing libraries\n",
    "# Importanto bibliotecas\n",
    "\n",
    "import pandas as pd\n",
    "import numpy as np\n",
    "import random\n",
    "import datetime"
   ]
  },
  {
   "cell_type": "code",
   "execution_count": 119,
   "id": "129bad72",
   "metadata": {},
   "outputs": [],
   "source": [
    "# Creating all the lists that we're gonna use\n",
    "# Criando todas as listas que usaremos\n",
    "\n",
    "columns = ['Data', 'Código da Venda', 'Vendedor', 'Roupa', 'Marca', 'Valor']\n",
    "l_vendedores = ['Caio', 'Mário', 'Maria', 'Éder', 'Sheyla', 'Ulisses', 'Letícia', 'Paula', 'Breno']\n",
    "l_roupas = ['Calça', 'Moletom', 'Short', 'Regata', 'Camisa', 'Boné', 'Tênis']\n",
    "l_marcas = ['Marca 1', 'Marca 2', 'Marca 3', 'Marca 4']\n",
    "l_precos = [90, 100, 110, 120, 130, 140, 150, 160, 170, 180, 190, 200]\n",
    "datas = []\n",
    "roupas = []\n",
    "vendedores = []\n",
    "marcas = []\n",
    "codigos = []\n",
    "precos = []"
   ]
  },
  {
   "cell_type": "code",
   "execution_count": 120,
   "id": "95dea389",
   "metadata": {},
   "outputs": [],
   "source": [
    "# Creating dataframe\n",
    "# Criando o dataframe\n",
    "\n",
    "vendas_2022 = pd.DataFrame(columns=columns)"
   ]
  },
  {
   "cell_type": "code",
   "execution_count": 121,
   "id": "b0420e54",
   "metadata": {},
   "outputs": [],
   "source": [
    "# Creating a list with dates from 01/01/2022 to 12/31/2022\n",
    "# Criando uma lista com as datas de 01/01/2022 até 31/12/2022\n",
    "\n",
    "data_inicial = '01/01/2022'\n",
    "data_inicial = datetime.datetime.strptime(data_inicial, '%d/%m/%Y').date()\n",
    "\n",
    "for d in range(0, 365):\n",
    "    n = random.randint(7, 15)\n",
    "    datas.extend([(data_inicial + datetime.timedelta(days=d)).strftime('%d/%m/%Y')] * n)"
   ]
  },
  {
   "cell_type": "code",
   "execution_count": 122,
   "id": "fccb95e2",
   "metadata": {},
   "outputs": [],
   "source": [
    "# Picking a random item from each list that we've created\n",
    "# Selecionando um item aleatório de cada lista que criamos \n",
    "\n",
    "for k in range(len(datas)):\n",
    "    roupas.extend(random.sample(l_roupas, 1))\n",
    "    vendedores.extend(random.sample(l_vendedores, 1))\n",
    "    marcas.extend(random.sample(l_marcas, 1))\n",
    "    precos.extend(random.sample(l_precos, 1))"
   ]
  },
  {
   "cell_type": "code",
   "execution_count": 123,
   "id": "cc20edd8",
   "metadata": {},
   "outputs": [],
   "source": [
    "# Adding items to the dataframe\n",
    "# Adicionando os items ao dataframe\n",
    "\n",
    "vendas_2022['Data'] = datas\n",
    "vendas_2022['Vendedor'] = vendedores\n",
    "vendas_2022['Roupa'] = roupas\n",
    "vendas_2022['Marca'] = marcas\n",
    "vendas_2022['Valor'] = precos"
   ]
  },
  {
   "cell_type": "code",
   "execution_count": 124,
   "id": "b230a4a0",
   "metadata": {},
   "outputs": [],
   "source": [
    "# Creating a function to generate a random code with the following pattern: 3 chars + 2 numbers + 2 chars + 3 numbers\n",
    "# Criando uma funcção para gerar um código aleatório com o seguinte padrão: 3 letras + 2 números + 2 letras + 3 números\n",
    "\n",
    "def gerar_codigo():\n",
    "    char = ['A', 'B', 'C', 'D', 'E', 'F', 'G', 'H', 'I', 'J', 'K', 'L', 'M', 'N', 'O', 'P', 'Q', 'R', 'S', 'T', 'U', 'V', 'X', 'Y', 'W', 'Z']\n",
    "    nums = ['1', '2', '3', '4', '5', '6', '7', '8', '9', '0']\n",
    "    cod = ''.join(random.sample(char, 3)) + ''.join(random.sample(nums, 2)) + ''.join(random.sample(char, 2)) + ''.join(random.sample(nums, 3))\n",
    "    return cod"
   ]
  },
  {
   "cell_type": "code",
   "execution_count": 125,
   "id": "e9c649e1",
   "metadata": {},
   "outputs": [],
   "source": [
    "# Adding the codes to a list\n",
    "# Adicionando os códigos à lista\n",
    "\n",
    "for j in range(len(datas)):\n",
    "    codigos.append(gerar_codigo())"
   ]
  },
  {
   "cell_type": "code",
   "execution_count": 126,
   "id": "99baa22b",
   "metadata": {},
   "outputs": [],
   "source": [
    "# Adding the codes to the dataframe\n",
    "# Adicionando os códigos ao dataframe\n",
    "\n",
    "vendas_2022['Código da Venda'] = codigos"
   ]
  },
  {
   "cell_type": "code",
   "execution_count": 128,
   "id": "d479c5b5",
   "metadata": {},
   "outputs": [],
   "source": [
    "# Creating an excel file with the dataframe\n",
    "# Criando um arquivo em excel com o dataframe\n",
    "\n",
    "vendas_2022.to_excel('Vendas 2022.xlsx')"
   ]
  }
 ],
 "metadata": {
  "kernelspec": {
   "display_name": "Python 3 (ipykernel)",
   "language": "python",
   "name": "python3"
  },
  "language_info": {
   "codemirror_mode": {
    "name": "ipython",
    "version": 3
   },
   "file_extension": ".py",
   "mimetype": "text/x-python",
   "name": "python",
   "nbconvert_exporter": "python",
   "pygments_lexer": "ipython3",
   "version": "3.9.12"
  }
 },
 "nbformat": 4,
 "nbformat_minor": 5
}
